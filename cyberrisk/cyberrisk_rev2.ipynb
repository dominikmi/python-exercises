{
 "cells": [
  {
   "cell_type": "markdown",
   "id": "b542f8e3-a5e8-4c07-8896-f6c60f10155a",
   "metadata": {},
   "source": [
    "This is going to be a revised version of cyber risk computation.\n",
    "Input data:\n",
    "* security controls (sec_controls.csv)\n",
    "* risk tolerance (risk_tolerance.csv)\n",
    "\n",
    "1. Set up validation\n",
    "2. Read data from CSV\n",
    "3. Validate data from CSV\n",
    "4. Compute\n",
    "5. Show results"
   ]
  },
  {
   "cell_type": "code",
   "execution_count": 12,
   "id": "53801afa-b8d0-4182-af2a-93c3907445db",
   "metadata": {},
   "outputs": [],
   "source": [
    "import csv \n",
    "import json\n",
    "import pandas as pd\n",
    "from pydantic import BaseModel, Field, ValidationError\n",
    "from typing import Annotated"
   ]
  },
  {
   "cell_type": "markdown",
   "id": "4caaf124-1dcc-4d86-82fe-5f4122b97d34",
   "metadata": {},
   "source": [
    "Now we need to define our csv->json converter"
   ]
  },
  {
   "cell_type": "code",
   "execution_count": 16,
   "id": "d660e5aa-ea62-41d0-b5bd-864e8bd2ee6e",
   "metadata": {},
   "outputs": [],
   "source": [
    "def csvToJsonConvert(csvfile: str) -> dict:\n",
    "    jsonArray = []\n",
    "    with open(csvfile, encoding='utf-8') as csvf: \n",
    "        csvReader = csv.DictReader(csvf) \n",
    "        for row in csvReader: \n",
    "            jsonArray.append(row)\n",
    "    return json.dumps(jsonArray, indent=4)"
   ]
  },
  {
   "cell_type": "code",
   "execution_count": 17,
   "id": "3533f4ba-5ccb-4c84-99fc-de026d739347",
   "metadata": {},
   "outputs": [],
   "source": [
    "class riskToleranceModel(BaseModel):\n",
    "    events: Annotated[str, Field(min_length=1, max_length=10)]\n",
    "    description: Annotated[str, Field(min_length=2, max_length=30)] | None = None\n",
    "    probability: Annotated[float, Field(ge=0)]\n",
    "    lb_loss: Annotated[int, Field(gt=0)]\n",
    "    up_loss: Annotated[int, Field(ge=0)]"
   ]
  },
  {
   "cell_type": "code",
   "execution_count": 23,
   "id": "51b96fdd-5d8b-4b0a-ac67-4fb1eb96531e",
   "metadata": {},
   "outputs": [],
   "source": [
    "myjson = csvToJsonConvert('events_losses.csv')"
   ]
  },
  {
   "cell_type": "markdown",
   "id": "0564a95a-af20-4549-b94a-88deba5c6ff9",
   "metadata": {},
   "source": [
    "I need something like:\n",
    "Read CSV -> provide typing for each column -> validate data -> put into json txt object.\n",
    "\n",
    "Perhaps, through some Pydantic type coercion and verification (error raised if not possible)."
   ]
  },
  {
   "cell_type": "code",
   "execution_count": null,
   "id": "816ee290-a963-4bad-ad1e-762abb77d940",
   "metadata": {},
   "outputs": [],
   "source": []
  }
 ],
 "metadata": {
  "kernelspec": {
   "display_name": "cyberrisk",
   "language": "python",
   "name": "cyberrisk"
  },
  "language_info": {
   "codemirror_mode": {
    "name": "ipython",
    "version": 3
   },
   "file_extension": ".py",
   "mimetype": "text/x-python",
   "name": "python",
   "nbconvert_exporter": "python",
   "pygments_lexer": "ipython3",
   "version": "3.12.1"
  }
 },
 "nbformat": 4,
 "nbformat_minor": 5
}
