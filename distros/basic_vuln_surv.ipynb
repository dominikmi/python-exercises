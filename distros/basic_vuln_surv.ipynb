{
 "cells": [
  {
   "cell_type": "code",
   "execution_count": 1,
   "id": "4211f0c4-6f51-457f-b6b2-e875b00afb5a",
   "metadata": {
    "tags": []
   },
   "outputs": [
    {
     "name": "stdout",
     "output_type": "stream",
     "text": [
      "--2023-03-29 10:18:40--  https://raw.githubusercontent.com/ribsy/mdata/main/tmm_start_small.csv\n",
      "Resolving raw.githubusercontent.com (raw.githubusercontent.com)... 185.199.109.133, 185.199.110.133, 185.199.111.133, ...\n",
      "Connecting to raw.githubusercontent.com (raw.githubusercontent.com)|185.199.109.133|:443... connected.\n",
      "HTTP request sent, awaiting response... 200 OK\n",
      "Length: 658553 (643K) [text/plain]\n",
      "Saving to: ‘tmm_start_small.csv.1’\n",
      "\n",
      "tmm_start_small.csv 100%[===================>] 643.12K  --.-KB/s    in 0.09s   \n",
      "\n",
      "2023-03-29 10:18:41 (6.62 MB/s) - ‘tmm_start_small.csv.1’ saved [658553/658553]\n",
      "\n"
     ]
    }
   ],
   "source": [
    "# 2nd chapter from Metrics Manifesto by R. Seiersen, \"translated\" to Python.\n",
    "!wget https://raw.githubusercontent.com/ribsy/mdata/main/tmm_start_small.csv"
   ]
  },
  {
   "cell_type": "code",
   "execution_count": 2,
   "id": "05a95a84-ff07-4828-88c2-d9b93a86cac7",
   "metadata": {
    "tags": []
   },
   "outputs": [],
   "source": [
    "# create the dataset from csv file and correct the column names: first.seen and last.seen replacing dot with underscore\n",
    "import pandas as pd\n",
    "df = pd.read_csv('tmm_start_small.csv')\n",
    "df.rename(columns = {'first.seen':'first_seen', 'last.seen':'last_seen'}, inplace = True)"
   ]
  },
  {
   "cell_type": "code",
   "execution_count": 3,
   "id": "d38b1287-a2b6-4cb3-b735-69a3aec30fee",
   "metadata": {
    "tags": []
   },
   "outputs": [
    {
     "data": {
      "text/html": [
       "<div>\n",
       "<style scoped>\n",
       "    .dataframe tbody tr th:only-of-type {\n",
       "        vertical-align: middle;\n",
       "    }\n",
       "\n",
       "    .dataframe tbody tr th {\n",
       "        vertical-align: top;\n",
       "    }\n",
       "\n",
       "    .dataframe thead th {\n",
       "        text-align: right;\n",
       "    }\n",
       "</style>\n",
       "<table border=\"1\" class=\"dataframe\">\n",
       "  <thead>\n",
       "    <tr style=\"text-align: right;\">\n",
       "      <th></th>\n",
       "      <th>idTeam</th>\n",
       "      <th>group</th>\n",
       "      <th>first_seen</th>\n",
       "      <th>last_seen</th>\n",
       "    </tr>\n",
       "  </thead>\n",
       "  <tbody>\n",
       "    <tr>\n",
       "      <th>0</th>\n",
       "      <td>2</td>\n",
       "      <td>1</td>\n",
       "      <td>2020-01-04</td>\n",
       "      <td>2020-01-23</td>\n",
       "    </tr>\n",
       "    <tr>\n",
       "      <th>1</th>\n",
       "      <td>2</td>\n",
       "      <td>1</td>\n",
       "      <td>2020-01-18</td>\n",
       "      <td>2020-01-19</td>\n",
       "    </tr>\n",
       "    <tr>\n",
       "      <th>2</th>\n",
       "      <td>2</td>\n",
       "      <td>1</td>\n",
       "      <td>2020-07-18</td>\n",
       "      <td>2020-07-19</td>\n",
       "    </tr>\n",
       "    <tr>\n",
       "      <th>3</th>\n",
       "      <td>3</td>\n",
       "      <td>1</td>\n",
       "      <td>2020-03-29</td>\n",
       "      <td>2020-04-29</td>\n",
       "    </tr>\n",
       "    <tr>\n",
       "      <th>4</th>\n",
       "      <td>3</td>\n",
       "      <td>1</td>\n",
       "      <td>2020-04-23</td>\n",
       "      <td>2020-05-07</td>\n",
       "    </tr>\n",
       "  </tbody>\n",
       "</table>\n",
       "</div>"
      ],
      "text/plain": [
       "   idTeam  group  first_seen   last_seen\n",
       "0       2      1  2020-01-04  2020-01-23\n",
       "1       2      1  2020-01-18  2020-01-19\n",
       "2       2      1  2020-07-18  2020-07-19\n",
       "3       3      1  2020-03-29  2020-04-29\n",
       "4       3      1  2020-04-23  2020-05-07"
      ]
     },
     "execution_count": 3,
     "metadata": {},
     "output_type": "execute_result"
    }
   ],
   "source": [
    "df.head()"
   ]
  },
  {
   "cell_type": "code",
   "execution_count": 4,
   "id": "f8175a06-6b26-4e22-906c-73d3cfe631ae",
   "metadata": {
    "tags": []
   },
   "outputs": [],
   "source": [
    "# We need two additional columns with delta - the duration of a vulnerability until it's fixed/gone and status - whether it's get censored.\n",
    "\n",
    "from datetime import datetime as dt\n",
    "from datetime import timedelta\n",
    "\n",
    "# Iterate over two columns in dataframe, using `zip`, convert the string to datetime and get the delta+1 day\n",
    "#df['delta'] = [(dt.strptime(stop,\"%Y-%m-%d\") - dt.strptime(start,\"%Y-%m-%d\"))+timedelta(days=1) for start, stop in zip(df['first_seen'],df['last_seen'])]\n",
    "delta = [(dt.strptime(stop,\"%Y-%m-%d\") - dt.strptime(start,\"%Y-%m-%d\"))+timedelta(days=1) for start, stop in zip(df['first_seen'],df['last_seen'])]\n",
    "# convert dtype64 from nanoseconds to days, otherwise the plot's x axis gets weird numbers\n",
    "df['delta'] = [x.days for x in delta]\n",
    "# Iterate over last.seen column and check whether it gets censored \n",
    "df['status'] = [1 if (dt.strptime(stop,\"%Y-%m-%d\") < dt.strptime('2020-12-31',\"%Y-%m-%d\")) else 0 for stop in df['last_seen']]"
   ]
  },
  {
   "cell_type": "code",
   "execution_count": 5,
   "id": "8ce279d3-f083-40e5-9868-b45de7b46b4e",
   "metadata": {
    "tags": []
   },
   "outputs": [
    {
     "data": {
      "text/html": [
       "<div>\n",
       "<style scoped>\n",
       "    .dataframe tbody tr th:only-of-type {\n",
       "        vertical-align: middle;\n",
       "    }\n",
       "\n",
       "    .dataframe tbody tr th {\n",
       "        vertical-align: top;\n",
       "    }\n",
       "\n",
       "    .dataframe thead th {\n",
       "        text-align: right;\n",
       "    }\n",
       "</style>\n",
       "<table border=\"1\" class=\"dataframe\">\n",
       "  <thead>\n",
       "    <tr style=\"text-align: right;\">\n",
       "      <th></th>\n",
       "      <th>idTeam</th>\n",
       "      <th>group</th>\n",
       "      <th>first_seen</th>\n",
       "      <th>last_seen</th>\n",
       "      <th>delta</th>\n",
       "      <th>status</th>\n",
       "    </tr>\n",
       "  </thead>\n",
       "  <tbody>\n",
       "    <tr>\n",
       "      <th>0</th>\n",
       "      <td>2</td>\n",
       "      <td>1</td>\n",
       "      <td>2020-01-04</td>\n",
       "      <td>2020-01-23</td>\n",
       "      <td>20</td>\n",
       "      <td>1</td>\n",
       "    </tr>\n",
       "    <tr>\n",
       "      <th>1</th>\n",
       "      <td>2</td>\n",
       "      <td>1</td>\n",
       "      <td>2020-01-18</td>\n",
       "      <td>2020-01-19</td>\n",
       "      <td>2</td>\n",
       "      <td>1</td>\n",
       "    </tr>\n",
       "    <tr>\n",
       "      <th>2</th>\n",
       "      <td>2</td>\n",
       "      <td>1</td>\n",
       "      <td>2020-07-18</td>\n",
       "      <td>2020-07-19</td>\n",
       "      <td>2</td>\n",
       "      <td>1</td>\n",
       "    </tr>\n",
       "    <tr>\n",
       "      <th>3</th>\n",
       "      <td>3</td>\n",
       "      <td>1</td>\n",
       "      <td>2020-03-29</td>\n",
       "      <td>2020-04-29</td>\n",
       "      <td>32</td>\n",
       "      <td>1</td>\n",
       "    </tr>\n",
       "    <tr>\n",
       "      <th>4</th>\n",
       "      <td>3</td>\n",
       "      <td>1</td>\n",
       "      <td>2020-04-23</td>\n",
       "      <td>2020-05-07</td>\n",
       "      <td>15</td>\n",
       "      <td>1</td>\n",
       "    </tr>\n",
       "  </tbody>\n",
       "</table>\n",
       "</div>"
      ],
      "text/plain": [
       "   idTeam  group  first_seen   last_seen  delta  status\n",
       "0       2      1  2020-01-04  2020-01-23     20       1\n",
       "1       2      1  2020-01-18  2020-01-19      2       1\n",
       "2       2      1  2020-07-18  2020-07-19      2       1\n",
       "3       3      1  2020-03-29  2020-04-29     32       1\n",
       "4       3      1  2020-04-23  2020-05-07     15       1"
      ]
     },
     "execution_count": 5,
     "metadata": {},
     "output_type": "execute_result"
    }
   ],
   "source": [
    "df.head()"
   ]
  },
  {
   "cell_type": "code",
   "execution_count": 6,
   "id": "5b6d762a-7798-4f33-b960-c2957bbde285",
   "metadata": {
    "tags": []
   },
   "outputs": [],
   "source": [
    "# filter out by start date <= 2020-10-01, idTeam == 1 and group == 1\n",
    "df_flt = df[(df.idTeam == 1) & (df.group == 1) & (pd.to_datetime(df.first_seen) <= pd.to_datetime('2020-10-01'))]"
   ]
  },
  {
   "cell_type": "code",
   "execution_count": 7,
   "id": "8788c965-dcd4-4578-86fb-07a8efadee7e",
   "metadata": {
    "tags": []
   },
   "outputs": [
    {
     "data": {
      "image/png": "[encoded data removed]",
      "text/plain": [
       "<Figure size 640x480 with 1 Axes>"
      ]
     },
     "metadata": {},
     "output_type": "display_data"
    }
   ],
   "source": [
    "# Survival function KMF\n",
    "import datetime\n",
    "from lifelines import KaplanMeierFitter\n",
    "import matplotlib.pyplot as plt\n",
    "\n",
    "kmf = KaplanMeierFitter()\n",
    "kmf.fit(durations=df_flt.delta, event_observed=df_flt.status)# Plot the survival function\n",
    "kmf.survival_function_.plot()\n",
    "plt.title('Survival Curve estimated with Kaplan-Meier Fitter')\n",
    "plt.show()"
   ]
  },
  {
   "cell_type": "code",
   "execution_count": 8,
   "id": "d8ce0383-1e1f-4e12-b1ac-8646e6fd7c75",
   "metadata": {
    "tags": []
   },
   "outputs": [
    {
     "data": {
      "text/html": [
       "<div>\n",
       "<style scoped>\n",
       "    .dataframe tbody tr th:only-of-type {\n",
       "        vertical-align: middle;\n",
       "    }\n",
       "\n",
       "    .dataframe tbody tr th {\n",
       "        vertical-align: top;\n",
       "    }\n",
       "\n",
       "    .dataframe thead th {\n",
       "        text-align: right;\n",
       "    }\n",
       "</style>\n",
       "<table border=\"1\" class=\"dataframe\">\n",
       "  <thead>\n",
       "    <tr style=\"text-align: right;\">\n",
       "      <th></th>\n",
       "      <th>KM_estimate</th>\n",
       "    </tr>\n",
       "    <tr>\n",
       "      <th>timeline</th>\n",
       "      <th></th>\n",
       "    </tr>\n",
       "  </thead>\n",
       "  <tbody>\n",
       "    <tr>\n",
       "      <th>0.0</th>\n",
       "      <td>1.000000</td>\n",
       "    </tr>\n",
       "    <tr>\n",
       "      <th>7.0</th>\n",
       "      <td>0.970588</td>\n",
       "    </tr>\n",
       "    <tr>\n",
       "      <th>15.0</th>\n",
       "      <td>0.941176</td>\n",
       "    </tr>\n",
       "    <tr>\n",
       "      <th>17.0</th>\n",
       "      <td>0.911765</td>\n",
       "    </tr>\n",
       "    <tr>\n",
       "      <th>18.0</th>\n",
       "      <td>0.852941</td>\n",
       "    </tr>\n",
       "  </tbody>\n",
       "</table>\n",
       "</div>"
      ],
      "text/plain": [
       "          KM_estimate\n",
       "timeline             \n",
       "0.0          1.000000\n",
       "7.0          0.970588\n",
       "15.0         0.941176\n",
       "17.0         0.911765\n",
       "18.0         0.852941"
      ]
     },
     "execution_count": 8,
     "metadata": {},
     "output_type": "execute_result"
    }
   ],
   "source": [
    "# Print survival probabilities\n",
    "kmf.survival_function_.head()"
   ]
  },
  {
   "cell_type": "code",
   "execution_count": 9,
   "id": "10979856-8e8b-4bd9-8036-904b9ea8a26f",
   "metadata": {
    "tags": []
   },
   "outputs": [
    {
     "data": {
      "text/plain": [
       "34.0"
      ]
     },
     "execution_count": 9,
     "metadata": {},
     "output_type": "execute_result"
    }
   ],
   "source": [
    "kmf.median_survival_time_"
   ]
  },
  {
   "cell_type": "code",
   "execution_count": 10,
   "id": "43f1c70b-1069-42ab-9ca1-1a8a1047ec63",
   "metadata": {
    "tags": []
   },
   "outputs": [
    {
     "data": {
      "image/png": "[encoded data removed]",
      "text/plain": [
       "<Figure size 640x480 with 1 Axes>"
      ]
     },
     "metadata": {},
     "output_type": "display_data"
    }
   ],
   "source": [
    "# Plot the survival function with confidence intervals\n",
    "kmf.plot_survival_function()\n",
    "plt.show()"
   ]
  },
  {
   "cell_type": "code",
   "execution_count": null,
   "id": "7f1430ce-9562-4390-9048-51ab14538993",
   "metadata": {},
   "outputs": [],
   "source": []
  }
 ],
 "metadata": {
  "kernelspec": {
   "display_name": "metrics",
   "language": "python",
   "name": "metrics"
  },
  "language_info": {
   "codemirror_mode": {
    "name": "ipython",
    "version": 3
   },
   "file_extension": ".py",
   "mimetype": "text/x-python",
   "name": "python",
   "nbconvert_exporter": "python",
   "pygments_lexer": "ipython3",
   "version": "3.11.2"
  }
 },
 "nbformat": 4,
 "nbformat_minor": 5
}
